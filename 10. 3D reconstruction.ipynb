{
 "cells": [
  {
   "cell_type": "markdown",
   "metadata": {
    "collapsed": true,
    "pycharm": {
     "name": "#%% md\n"
    }
   },
   "source": [
    "# 10. 3D PointCloud reconstruction\n",
    "\n",
    "* Point Cloud Library - https://pointclouds.org/downloads/ - C++ (has bad python ports)\n",
    "* Open3D - Python - http://www.open3d.org/ - written for python\n",
    "*  PDAL libraryfor pipelining\n",
    "\n",
    "* data from  - http://graphics.stanford.edu/data/3Dscanrep/\n",
    "  - download armadillo scans\n",
    "* https://github.com/intel-isl/Open3D/tree/master/examples/python/pipelines"
   ]
  },
  {
   "cell_type": "code",
   "execution_count": 14,
   "outputs": [],
   "source": [
    "import open3d as o3d\n",
    "import numpy as np\n",
    "import os\n",
    "import sys\n",
    "import copy\n",
    "\n",
    "source = o3d.io.read_point_cloud(\"/home/miro/Documents/Armadillo_scans/ArmadilloOnface_90.ply\")\n",
    "target = o3d.io.read_point_cloud(\"/home/miro/Documents/Armadillo_scans/ArmadilloOnface_120.ply\")"
   ],
   "metadata": {
    "collapsed": false,
    "pycharm": {
     "name": "#%%\n"
    }
   }
  },
  {
   "cell_type": "code",
   "execution_count": 15,
   "outputs": [],
   "source": [
    "o3d.visualization.draw_geometries([source, target])"
   ],
   "metadata": {
    "collapsed": false,
    "pycharm": {
     "name": "#%%\n"
    }
   }
  },
  {
   "cell_type": "code",
   "execution_count": 16,
   "outputs": [],
   "source": [
    "def draw_registration_result(source, target, transformation):\n",
    "    source_temp = copy.deepcopy(source)\n",
    "    target_temp = copy.deepcopy(target)\n",
    "    source_temp.paint_uniform_color([1, 0.706, 0])\n",
    "    target_temp.paint_uniform_color([0, 0.651, 0.929])\n",
    "    source_temp.transform(transformation)\n",
    "    o3d.visualization.draw_geometries([source_temp, target_temp])"
   ],
   "metadata": {
    "collapsed": false,
    "pycharm": {
     "name": "#%%\n"
    }
   }
  },
  {
   "cell_type": "markdown",
   "source": [
    "### Fast Point Feature Histograms (FPFH) descriptors\n",
    "\n",
    "* https://pcl.readthedocs.io/projects/tutorials/en/latest/fpfh_estimation.html\n",
    "* orientacia normal okolia, normala je kolmica na povrch ktoru vieme urcite pre kazdy bod resp skupinu bodov,\n",
    "* orientacia je definovana tromi uhlami voci refrencnemu bodu"
   ],
   "metadata": {
    "collapsed": false,
    "pycharm": {
     "name": "#%% md\n"
    }
   }
  },
  {
   "cell_type": "code",
   "execution_count": 17,
   "outputs": [],
   "source": [
    "def preprocess_point_cloud(pcd, voxel_size):\n",
    "    pcd_down = pcd.voxel_down_sample(voxel_size)\n",
    "\n",
    "    radius_normal = voxel_size * 2\n",
    "    pcd_down.estimate_normals(\n",
    "        o3d.geometry.KDTreeSearchParamHybrid(radius=radius_normal, max_nn=30))\n",
    "\n",
    "    radius_feature = voxel_size * 5\n",
    "    pcd_fpfh = o3d.pipelines.registration.compute_fpfh_feature(\n",
    "        pcd_down,\n",
    "        o3d.geometry.KDTreeSearchParamHybrid(radius=radius_feature, max_nn=100))\n",
    "    return pcd_down, pcd_fpfh"
   ],
   "metadata": {
    "collapsed": false,
    "pycharm": {
     "name": "#%%\n"
    }
   }
  },
  {
   "cell_type": "code",
   "execution_count": 18,
   "outputs": [
    {
     "name": "stdout",
     "output_type": "stream",
     "text": [
      "RegistrationResult with fitness=6.869601e-02, inlier_rmse=8.995172e-04, and correspondence_set size of 167\n",
      "Access transformation to get result.\n"
     ]
    }
   ],
   "source": [
    "voxel_size = 0.001\n",
    "source_down, source_fpfh = preprocess_point_cloud(source, voxel_size)\n",
    "target_down, target_fpfh = preprocess_point_cloud(target, voxel_size)\n",
    "o3d.visualization.draw_geometries([source_down])\n",
    "\n",
    "def execute_global_registration(source_down, target_down, source_fpfh,\n",
    "                                target_fpfh, voxel_size):\n",
    "    distance_threshold = voxel_size * 1.5\n",
    "\n",
    "    result = o3d.pipelines.registration.registration_ransac_based_on_feature_matching(\n",
    "        source_down, target_down, source_fpfh, target_fpfh, True,distance_threshold)\n",
    "    return result\n",
    "\n",
    "result_ransac = execute_global_registration(source_down, target_down,\n",
    "                                            source_fpfh, target_fpfh,\n",
    "                                            voxel_size)\n",
    "print(result_ransac)"
   ],
   "metadata": {
    "collapsed": false,
    "pycharm": {
     "name": "#%%\n"
    }
   }
  },
  {
   "cell_type": "code",
   "execution_count": 19,
   "outputs": [],
   "source": [
    "draw_registration_result(source, target, result_ransac.transformation)"
   ],
   "metadata": {
    "collapsed": false,
    "pycharm": {
     "name": "#%%\n"
    }
   }
  },
  {
   "cell_type": "code",
   "execution_count": 20,
   "outputs": [
    {
     "name": "stdout",
     "output_type": "stream",
     "text": [
      "Apply point-to-point ICP\n",
      "RegistrationResult with fitness=7.241341e-01, inlier_rmse=6.498156e-04, and correspondence_set size of 6460\n",
      "Access transformation to get result.\n",
      "Transformation is:\n",
      "[[ 8.66008205e-01 -5.79618526e-03 -4.99996193e-01  8.69398571e-04]\n",
      " [ 6.70822876e-03  9.99977499e-01  2.66528035e-05 -6.79814130e-05]\n",
      " [ 4.99984789e-01 -3.37717039e-03  8.66027601e-01  2.62462350e-04]\n",
      " [ 0.00000000e+00  0.00000000e+00  0.00000000e+00  1.00000000e+00]]\n"
     ]
    }
   ],
   "source": [
    "threshold= 0.002\n",
    "print(\"Apply point-to-point ICP\")\n",
    "reg_p2p = o3d.pipelines.registration.registration_icp(\n",
    "    source_down, target_down, threshold, result_ransac.transformation,\n",
    "    o3d.pipelines.registration.TransformationEstimationPointToPoint())\n",
    "print(reg_p2p)\n",
    "print(\"Transformation is:\")\n",
    "print(reg_p2p.transformation)"
   ],
   "metadata": {
    "collapsed": false,
    "pycharm": {
     "name": "#%%\n"
    }
   }
  },
  {
   "cell_type": "code",
   "execution_count": 21,
   "outputs": [],
   "source": [
    "draw_registration_result(source, target, reg_p2p.transformation)"
   ],
   "metadata": {
    "collapsed": false,
    "pycharm": {
     "name": "#%%\n"
    }
   }
  },
  {
   "cell_type": "code",
   "execution_count": 22,
   "outputs": [],
   "source": [
    "def merge_pt_clouds(source, target, transform):\n",
    "    pcd_combined = o3d.geometry.PointCloud()\n",
    "\n",
    "    source_T = source.transform(transform)\n",
    "\n",
    "    pcd_combined += target\n",
    "    pcd_combined += source_T\n",
    "    pcd_combined =pcd_combined.voxel_down_sample(0.001)\n",
    "\n",
    "    return pcd_combined\n",
    "\n",
    "pt_cloud  = merge_pt_clouds(source,target,reg_p2p.transformation)\n",
    "o3d.visualization.draw_geometries([pt_cloud])"
   ],
   "metadata": {
    "collapsed": false,
    "pycharm": {
     "name": "#%%\n"
    }
   }
  },
  {
   "cell_type": "code",
   "execution_count": 23,
   "outputs": [
    {
     "name": "stdout",
     "output_type": "stream",
     "text": [
      "PointCloud with 15095 points.\n"
     ]
    }
   ],
   "source": [
    "print(pt_cloud)"
   ],
   "metadata": {
    "collapsed": false,
    "pycharm": {
     "name": "#%%\n"
    }
   }
  },
  {
   "cell_type": "code",
   "execution_count": 24,
   "outputs": [],
   "source": [
    "from glob import glob\n",
    "\n",
    "paths = glob(\"/home/miro/Documents/Armadillo_scans/ArmadilloOnface*.ply\")\n",
    "out_cloud = copy.deepcopy(pt_cloud)\n",
    "voxel_size = 0.001\n"
   ],
   "metadata": {
    "collapsed": false,
    "pycharm": {
     "name": "#%%\n"
    }
   }
  },
  {
   "cell_type": "code",
   "execution_count": 25,
   "outputs": [
    {
     "name": "stdout",
     "output_type": "stream",
     "text": [
      "PointCloud with 15095 points.\n",
      "RegistrationResult with fitness=1.975634e-03, inlier_rmse=1.061673e-03, and correspondence_set size of 6\n",
      "Access transformation to get result.\n",
      "RegistrationResult with fitness=3.663004e-03, inlier_rmse=9.282469e-04, and correspondence_set size of 10\n",
      "Access transformation to get result.\n",
      "RegistrationResult with fitness=1.612298e-01, inlier_rmse=8.121315e-04, and correspondence_set size of 430\n",
      "Access transformation to get result.\n",
      "PointCloud with 16470 points.\n",
      "RegistrationResult with fitness=1.973165e-03, inlier_rmse=1.220768e-03, and correspondence_set size of 5\n",
      "Access transformation to get result.\n",
      "RegistrationResult with fitness=2.637528e-03, inlier_rmse=1.120509e-03, and correspondence_set size of 7\n",
      "Access transformation to get result.\n",
      "RegistrationResult with fitness=3.024803e-03, inlier_rmse=9.513905e-04, and correspondence_set size of 5\n",
      "Access transformation to get result.\n",
      "RegistrationResult with fitness=2.650762e-03, inlier_rmse=8.355918e-04, and correspondence_set size of 8\n",
      "Access transformation to get result.\n",
      "RegistrationResult with fitness=2.018474e-02, inlier_rmse=1.024430e-03, and correspondence_set size of 59\n",
      "Access transformation to get result.\n",
      "PointCloud with 20578 points.\n",
      "RegistrationResult with fitness=1.815487e-02, inlier_rmse=9.244341e-04, and correspondence_set size of 49\n",
      "Access transformation to get result.\n",
      "PointCloud with 25369 points.\n",
      "RegistrationResult with fitness=4.719972e-02, inlier_rmse=9.708589e-04, and correspondence_set size of 134\n",
      "Access transformation to get result.\n",
      "PointCloud with 29076 points.\n",
      "RegistrationResult with fitness=1.728310e-03, inlier_rmse=9.252334e-04, and correspondence_set size of 5\n",
      "Access transformation to get result.\n",
      "RegistrationResult with fitness=1.424121e-02, inlier_rmse=1.013376e-03, and correspondence_set size of 32\n",
      "Access transformation to get result.\n",
      "PointCloud with 35111 points.\n"
     ]
    }
   ],
   "source": [
    "print(out_cloud)\n",
    "\n",
    "for fp in paths:\n",
    "    source = o3d.io.read_point_cloud(fp)\n",
    "    source_down, source_fpfh = preprocess_point_cloud(source, voxel_size)\n",
    "    target_down, target_fpfh = preprocess_point_cloud(out_cloud, voxel_size)\n",
    "\n",
    "    result_ransac = execute_global_registration(source_down, target_down,\n",
    "                                            source_fpfh, target_fpfh,\n",
    "                                            voxel_size)\n",
    "    print(result_ransac)\n",
    "    if np.asarray(result_ransac.correspondence_set).shape[0]>25:\n",
    "        out_cloud = merge_pt_clouds(source,out_cloud,result_ransac.transformation)\n",
    "        print(out_cloud)"
   ],
   "metadata": {
    "collapsed": false,
    "pycharm": {
     "name": "#%%\n"
    }
   }
  },
  {
   "cell_type": "code",
   "execution_count": 26,
   "outputs": [],
   "source": [
    "o3d.visualization.draw_geometries([out_cloud])"
   ],
   "metadata": {
    "collapsed": false,
    "pycharm": {
     "name": "#%%\n"
    }
   }
  },
  {
   "cell_type": "markdown",
   "source": [
    " 1. Zrekonstruovat bunny point cloud, lubovolnou metodou.\n",
    "    * http://graphics.stanford.edu/pub/3Dscanrep/bunny.tar.gz"
   ],
   "metadata": {
    "collapsed": false
   }
  }
 ],
 "metadata": {
  "kernelspec": {
   "display_name": "Python 3",
   "language": "python",
   "name": "python3"
  },
  "language_info": {
   "codemirror_mode": {
    "name": "ipython",
    "version": 2
   },
   "file_extension": ".py",
   "mimetype": "text/x-python",
   "name": "python",
   "nbconvert_exporter": "python",
   "pygments_lexer": "ipython2",
   "version": "2.7.6"
  }
 },
 "nbformat": 4,
 "nbformat_minor": 0
}